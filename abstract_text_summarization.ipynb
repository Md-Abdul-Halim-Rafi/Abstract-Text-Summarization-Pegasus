{
  "nbformat": 4,
  "nbformat_minor": 0,
  "metadata": {
    "colab": {
      "name": "Text-summarization.ipynb",
      "provenance": [],
      "collapsed_sections": [],
      "authorship_tag": "ABX9TyOc400MXVpRe/BkGTY4SjAS",
      "include_colab_link": true
    },
    "kernelspec": {
      "name": "python3",
      "display_name": "Python 3"
    },
    "language_info": {
      "name": "python"
    }
  },
  "cells": [
    {
      "cell_type": "markdown",
      "metadata": {
        "id": "view-in-github",
        "colab_type": "text"
      },
      "source": [
        "<a href=\"https://colab.research.google.com/github/Md-Abdul-Halim-Rafi/Text-Summarization-Test/blob/main/abstract_text_summarization.ipynb\" target=\"_parent\"><img src=\"https://colab.research.google.com/assets/colab-badge.svg\" alt=\"Open In Colab\"/></a>"
      ]
    },
    {
      "cell_type": "markdown",
      "source": [
        "## Install Dependencies"
      ],
      "metadata": {
        "id": "3ZHjQc86waol"
      }
    },
    {
      "cell_type": "code",
      "execution_count": null,
      "metadata": {
        "id": "5MvAjyC1FL2K"
      },
      "outputs": [],
      "source": [
        "# Install PyTorch\n",
        "!pip3 install torch torchvision torchaudio --extra-index-url https://download.pytorch.org/whl/cu116"
      ]
    },
    {
      "cell_type": "code",
      "source": [
        "# Install transformers and SentencePiece\n",
        "!pip3 install transformers\n",
        "!pip3 install SentencePiece"
      ],
      "metadata": {
        "id": "t8tqevsbtEd3"
      },
      "execution_count": null,
      "outputs": []
    },
    {
      "cell_type": "markdown",
      "source": [
        "## Import and Load Model"
      ],
      "metadata": {
        "id": "wKf1VCE3tM5B"
      }
    },
    {
      "cell_type": "code",
      "source": [
        "# Importing dependencies from transformers\n",
        "from transformers import PegasusForConditionalGeneration, PegasusTokenizer"
      ],
      "metadata": {
        "id": "33REd-ZPtKGA"
      },
      "execution_count": 2,
      "outputs": []
    },
    {
      "cell_type": "code",
      "source": [
        "# Load tokenizer \n",
        "tokenizer = PegasusTokenizer.from_pretrained(\"google/pegasus-xsum\")"
      ],
      "metadata": {
        "id": "0ZEE-nGStWdZ"
      },
      "execution_count": null,
      "outputs": []
    },
    {
      "cell_type": "code",
      "source": [
        "# Load model \n",
        "model = PegasusForConditionalGeneration.from_pretrained(\"google/pegasus-xsum\")"
      ],
      "metadata": {
        "id": "VMGqlv1Evck4"
      },
      "execution_count": null,
      "outputs": []
    },
    {
      "cell_type": "markdown",
      "source": [
        "## Perform Abstractive Summarization"
      ],
      "metadata": {
        "id": "pA6CfFszviIm"
      }
    },
    {
      "cell_type": "code",
      "source": [
        "text = \"\"\"\n",
        "The problem of vertical flow stability in an oil reservoir with a gas cap is considered, when the oil flow obeys the Brinkman equation. Boundary conditions at the moving boundary of the gas-oil interface are derived and a basic solution is obtained. The normal mode method is used to study the stability of the gas–oil interface. The obtained dispersion equation is investigated. Conditions for flow stability are found for all values of the parameters, and it is shown that, in the linear approximation, the growth rate of short-wave perturbations tends to zero with increasing wave number.\n",
        "\"\"\""
      ],
      "metadata": {
        "id": "rlpP8V2qvkiX"
      },
      "execution_count": 11,
      "outputs": []
    },
    {
      "cell_type": "code",
      "source": [
        "# Create tokens - number representation of our text\n",
        "tokens = tokenizer(text, truncation=True, padding=\"longest\", return_tensors=\"pt\")"
      ],
      "metadata": {
        "id": "tHn9kQR5voOi"
      },
      "execution_count": 12,
      "outputs": []
    },
    {
      "cell_type": "code",
      "source": [
        "# Input tokens\n",
        "tokens"
      ],
      "metadata": {
        "colab": {
          "base_uri": "https://localhost:8080/"
        },
        "id": "satfgnySvqrW",
        "outputId": "eb2e7e4c-f166-4347-f113-fca47347bb88"
      },
      "execution_count": 13,
      "outputs": [
        {
          "output_type": "execute_result",
          "data": {
            "text/plain": [
              "{'input_ids': tensor([[  139,   575,   113,  5226,  1971,  4528,   115,   142,   762, 16329,\n",
              "           122,   114,  1503,  3889,   117,  1341,   108,   173,   109,   762,\n",
              "          1971, 19887,   116,   109, 56416,  1121, 10635,   107, 44494,  1047,\n",
              "           134,   109,  1218, 11547,   113,   109,  1503,   121, 14517,  3101,\n",
              "           127,  7327,   111,   114,  1412,   951,   117,  3686,   107,   139,\n",
              "          1644,  2531,  1356,   117,   263,   112,   692,   109,  4528,   113,\n",
              "           109,  1503,  1198, 14517,  3101,   107,   139,  3686, 31757, 10635,\n",
              "           117, 10920,   107, 11094,   118,  1971,  4528,   127,   374,   118,\n",
              "           149,  1928,   113,   109,  5384,   108,   111,   126,   117,  1673,\n",
              "           120,   108,   115,   109,  8035, 34572,   108,   109,   874,   872,\n",
              "           113,   613,   121, 16108, 69369,   116,  7475,   112,  4112,   122,\n",
              "          2186,  4660,   344,   107,     1]]), 'attention_mask': tensor([[1, 1, 1, 1, 1, 1, 1, 1, 1, 1, 1, 1, 1, 1, 1, 1, 1, 1, 1, 1, 1, 1, 1, 1,\n",
              "         1, 1, 1, 1, 1, 1, 1, 1, 1, 1, 1, 1, 1, 1, 1, 1, 1, 1, 1, 1, 1, 1, 1, 1,\n",
              "         1, 1, 1, 1, 1, 1, 1, 1, 1, 1, 1, 1, 1, 1, 1, 1, 1, 1, 1, 1, 1, 1, 1, 1,\n",
              "         1, 1, 1, 1, 1, 1, 1, 1, 1, 1, 1, 1, 1, 1, 1, 1, 1, 1, 1, 1, 1, 1, 1, 1,\n",
              "         1, 1, 1, 1, 1, 1, 1, 1, 1, 1, 1, 1, 1, 1, 1, 1, 1, 1, 1]])}"
            ]
          },
          "metadata": {},
          "execution_count": 13
        }
      ]
    },
    {
      "cell_type": "code",
      "source": [
        "# Summarize \n",
        "summary = model.generate(**tokens)"
      ],
      "metadata": {
        "id": "UbxS-pX3vsFK"
      },
      "execution_count": 14,
      "outputs": []
    },
    {
      "cell_type": "code",
      "source": [
        "# Output summary tokens\n",
        "summary[0]"
      ],
      "metadata": {
        "colab": {
          "base_uri": "https://localhost:8080/"
        },
        "id": "cmIlUuZkvwn7",
        "outputId": "5ccb9ccb-cec6-41b1-b61d-388f318faaf3"
      },
      "execution_count": 15,
      "outputs": [
        {
          "output_type": "execute_result",
          "data": {
            "text/plain": [
              "tensor([    0,   139,  4528,   113,   114,  1503,   121, 14517,  3101,   115,\n",
              "          142,   762, 16329,   117, 10920,   107,     1])"
            ]
          },
          "metadata": {},
          "execution_count": 15
        }
      ]
    },
    {
      "cell_type": "code",
      "source": [
        "# Decode summary\n",
        "tokenizer.decode(summary[0])"
      ],
      "metadata": {
        "colab": {
          "base_uri": "https://localhost:8080/",
          "height": 35
        },
        "id": "HnYHkLZ6vxKZ",
        "outputId": "712b036e-7b2e-4b4d-95cb-84e328f94756"
      },
      "execution_count": 16,
      "outputs": [
        {
          "output_type": "execute_result",
          "data": {
            "text/plain": [
              "'The stability of a gas-oil interface in an oil reservoir is investigated.'"
            ],
            "application/vnd.google.colaboratory.intrinsic+json": {
              "type": "string"
            }
          },
          "metadata": {},
          "execution_count": 16
        }
      ]
    }
  ]
}